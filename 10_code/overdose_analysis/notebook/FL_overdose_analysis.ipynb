{
 "cells": [
  {
   "cell_type": "code",
   "execution_count": 1,
   "metadata": {},
   "outputs": [],
   "source": [
    "import pandas as pd\n",
    "import numpy as np\n",
    "import altair as alt\n",
    "import statsmodels.formula.api as smf\n",
    "import pathlib\n",
    "\n",
    "from TX_overdose_analysis import get_vertical_line, pre_post_analysis"
   ]
  },
  {
   "cell_type": "code",
   "execution_count": 6,
   "metadata": {},
   "outputs": [
    {
     "data": {
      "text/html": [
       "<div>\n",
       "<style scoped>\n",
       "    .dataframe tbody tr th:only-of-type {\n",
       "        vertical-align: middle;\n",
       "    }\n",
       "\n",
       "    .dataframe tbody tr th {\n",
       "        vertical-align: top;\n",
       "    }\n",
       "\n",
       "    .dataframe thead th {\n",
       "        text-align: right;\n",
       "    }\n",
       "</style>\n",
       "<table border=\"1\" class=\"dataframe\">\n",
       "  <thead>\n",
       "    <tr style=\"text-align: right;\">\n",
       "      <th></th>\n",
       "      <th>County Code</th>\n",
       "      <th>Year</th>\n",
       "      <th>Drug/Alcohol Induced Cause</th>\n",
       "      <th>Drug/Alcohol Induced Cause Code</th>\n",
       "      <th>Deaths</th>\n",
       "      <th>target_state</th>\n",
       "      <th>State</th>\n",
       "      <th>County</th>\n",
       "      <th>Population</th>\n",
       "      <th>_merge</th>\n",
       "      <th>Overdose_death_per_capita</th>\n",
       "    </tr>\n",
       "    <tr>\n",
       "      <th>index</th>\n",
       "      <th></th>\n",
       "      <th></th>\n",
       "      <th></th>\n",
       "      <th></th>\n",
       "      <th></th>\n",
       "      <th></th>\n",
       "      <th></th>\n",
       "      <th></th>\n",
       "      <th></th>\n",
       "      <th></th>\n",
       "      <th></th>\n",
       "    </tr>\n",
       "  </thead>\n",
       "  <tbody>\n",
       "  </tbody>\n",
       "</table>\n",
       "</div>"
      ],
      "text/plain": [
       "Empty DataFrame\n",
       "Columns: [County Code, Year, Drug/Alcohol Induced Cause, Drug/Alcohol Induced Cause Code, Deaths, target_state, State, County, Population, _merge, Overdose_death_per_capita]\n",
       "Index: []"
      ]
     },
     "execution_count": 6,
     "metadata": {},
     "output_type": "execute_result"
    }
   ],
   "source": [
    "data = pd.read_parquet(f\"{pathlib.Path.cwd()}/../20_intermediate_files/Death_and_Population.gzip\")\n",
    "data[\"Overdose_death_per_capita\"] = data[\"Deaths\"] / data[\"Population\"]\n",
    "\n",
    "# Select target states\n",
    "FL = data[data.State == \"FL\"] # Florida\n",
    "AZ = data[data.State == \"AZ\"] # Arizona\n",
    "LA = data[data.State == \"LA\"] # Louisiana\n",
    "CO = data[data.State == \"CO\"] # Colorado\n",
    "\n",
    "# Where to save files\n",
    "path_prefix = f\"{pathlib.Path.cwd()}/30_results/overdose_death/\"\n",
    "\n",
    "# Pre-post analysis\n",
    "line = get_vertical_line(2007)\n",
    "FL.head()\n",
    "# FL_pre, FL_post = pre_post_analysis(FL, 2007)\n",
    "# FL_pre_post_chart = alt.layer(FL_pre, FL_post, line).properties()\n",
    "# FL_pre_post_chart.save(f\"{path_prefix}FL.png\")\n",
    "\n",
    "# # The diff-in-diff charts between each comparison state\n",
    "# # Texas vs. Arizona\n",
    "# AZ_pre, AZ_post = pre_post_analysis(AZ, 2007)\n",
    "# FL_vs_AZ = alt.layer(FL_pre_post_chart, AZ_pre + AZ_post, line).properties(\n",
    "#     title=\"Overdose Death Rates in Texas vs. AZsconsin\"\n",
    "# )\n",
    "# FL_vs_AZ.save(f\"{path_prefix}FL_vs_AZ.png\")\n",
    "\n",
    "# # Texas vs. Louisiana\n",
    "# LA_pre, LA_post = pre_post_analysis(LA, 2007)\n",
    "# FL_vs_LA = alt.layer(FL_pre_post_chart, LA_pre + LA_post, line).properties(\n",
    "#     title=\"Overdose Death Rates in Texas vs. Louisiana\"\n",
    "# )\n",
    "# FL_vs_LA.save(f\"{path_prefix}FL_vs_LA.png\")\n",
    "\n",
    "# # Texas vs. Colorado\n",
    "# CO_pre, CO_post = pre_post_analysis(CO, 2007)\n",
    "# FL_vs_CO = alt.layer(FL_pre_post_chart, CO_pre + CO_post, line).properties(\n",
    "#     title=\"Overdose Death Rates in Texas vs. Colorado\"\n",
    "# )"
   ]
  },
  {
   "cell_type": "code",
   "execution_count": null,
   "metadata": {},
   "outputs": [],
   "source": []
  }
 ],
 "metadata": {
  "interpreter": {
   "hash": "16e78fcdeb1cff02c2b91bd0b500d9a118258abdec2b5a4a8cf0318dec5ed36c"
  },
  "kernelspec": {
   "display_name": "Python 3.9.6 64-bit ('base': conda)",
   "name": "python3"
  },
  "language_info": {
   "codemirror_mode": {
    "name": "ipython",
    "version": 3
   },
   "file_extension": ".py",
   "mimetype": "text/x-python",
   "name": "python",
   "nbconvert_exporter": "python",
   "pygments_lexer": "ipython3",
   "version": "3.9.6"
  },
  "orig_nbformat": 4
 },
 "nbformat": 4,
 "nbformat_minor": 2
}

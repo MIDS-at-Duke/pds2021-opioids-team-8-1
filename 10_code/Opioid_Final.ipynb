{
 "cells": [
  {
   "cell_type": "code",
   "execution_count": 3,
   "metadata": {},
   "outputs": [],
   "source": [
    "import pandas as pd"
   ]
  },
  {
   "cell_type": "code",
   "execution_count": 1,
   "metadata": {},
   "outputs": [],
   "source": [
    "states = [\"AZ\", \"CO\", \"FL\", \"LA\"]\n",
    "def read_all_files():\n",
    "    data_list = []\n",
    "    for state in states:\n",
    "        df_temp = pd.read_csv(f\"/Users/weilianghu/Downloads/pds2021-opioids-team-8-1/20_intermediate_files/Opioid_{state}.csv\")\n",
    "        data_list.append(df_temp)\n",
    "    return pd.concat(data_list)"
   ]
  },
  {
   "cell_type": "code",
   "execution_count": 4,
   "metadata": {},
   "outputs": [
    {
     "data": {
      "text/html": [
       "<div>\n",
       "<style scoped>\n",
       "    .dataframe tbody tr th:only-of-type {\n",
       "        vertical-align: middle;\n",
       "    }\n",
       "\n",
       "    .dataframe tbody tr th {\n",
       "        vertical-align: top;\n",
       "    }\n",
       "\n",
       "    .dataframe thead th {\n",
       "        text-align: right;\n",
       "    }\n",
       "</style>\n",
       "<table border=\"1\" class=\"dataframe\">\n",
       "  <thead>\n",
       "    <tr style=\"text-align: right;\">\n",
       "      <th></th>\n",
       "      <th>Unnamed: 0</th>\n",
       "      <th>BUYER_STATE</th>\n",
       "      <th>BUYER_COUNTY</th>\n",
       "      <th>YEAR</th>\n",
       "      <th>MME</th>\n",
       "    </tr>\n",
       "  </thead>\n",
       "  <tbody>\n",
       "    <tr>\n",
       "      <th>175</th>\n",
       "      <td>175</td>\n",
       "      <td>CO</td>\n",
       "      <td>ELBERT</td>\n",
       "      <td>2011</td>\n",
       "      <td>5.982770e+09</td>\n",
       "    </tr>\n",
       "    <tr>\n",
       "      <th>448</th>\n",
       "      <td>448</td>\n",
       "      <td>LA</td>\n",
       "      <td>SAINT TAMMANY</td>\n",
       "      <td>2009</td>\n",
       "      <td>3.748696e+12</td>\n",
       "    </tr>\n",
       "    <tr>\n",
       "      <th>462</th>\n",
       "      <td>462</td>\n",
       "      <td>LA</td>\n",
       "      <td>ST JOHN THE BAPTIST</td>\n",
       "      <td>2014</td>\n",
       "      <td>6.636787e+10</td>\n",
       "    </tr>\n",
       "    <tr>\n",
       "      <th>481</th>\n",
       "      <td>481</td>\n",
       "      <td>FL</td>\n",
       "      <td>PUTNAM</td>\n",
       "      <td>2013</td>\n",
       "      <td>3.768968e+11</td>\n",
       "    </tr>\n",
       "    <tr>\n",
       "      <th>554</th>\n",
       "      <td>554</td>\n",
       "      <td>LA</td>\n",
       "      <td>WEST FELICIANA</td>\n",
       "      <td>2007</td>\n",
       "      <td>1.056982e+09</td>\n",
       "    </tr>\n",
       "    <tr>\n",
       "      <th>563</th>\n",
       "      <td>563</td>\n",
       "      <td>FL</td>\n",
       "      <td>UNION</td>\n",
       "      <td>2014</td>\n",
       "      <td>5.123209e+09</td>\n",
       "    </tr>\n",
       "    <tr>\n",
       "      <th>520</th>\n",
       "      <td>520</td>\n",
       "      <td>CO</td>\n",
       "      <td>YUMA</td>\n",
       "      <td>2009</td>\n",
       "      <td>1.897220e+09</td>\n",
       "    </tr>\n",
       "    <tr>\n",
       "      <th>341</th>\n",
       "      <td>341</td>\n",
       "      <td>LA</td>\n",
       "      <td>POINTE COUPEE</td>\n",
       "      <td>2010</td>\n",
       "      <td>1.270365e+10</td>\n",
       "    </tr>\n",
       "    <tr>\n",
       "      <th>244</th>\n",
       "      <td>244</td>\n",
       "      <td>LA</td>\n",
       "      <td>LA SALLE</td>\n",
       "      <td>2012</td>\n",
       "      <td>2.111316e+10</td>\n",
       "    </tr>\n",
       "    <tr>\n",
       "      <th>455</th>\n",
       "      <td>455</td>\n",
       "      <td>FL</td>\n",
       "      <td>PASCO</td>\n",
       "      <td>2014</td>\n",
       "      <td>9.353779e+12</td>\n",
       "    </tr>\n",
       "  </tbody>\n",
       "</table>\n",
       "</div>"
      ],
      "text/plain": [
       "     Unnamed: 0 BUYER_STATE         BUYER_COUNTY  YEAR           MME\n",
       "175         175          CO               ELBERT  2011  5.982770e+09\n",
       "448         448          LA        SAINT TAMMANY  2009  3.748696e+12\n",
       "462         462          LA  ST JOHN THE BAPTIST  2014  6.636787e+10\n",
       "481         481          FL               PUTNAM  2013  3.768968e+11\n",
       "554         554          LA       WEST FELICIANA  2007  1.056982e+09\n",
       "563         563          FL                UNION  2014  5.123209e+09\n",
       "520         520          CO                 YUMA  2009  1.897220e+09\n",
       "341         341          LA        POINTE COUPEE  2010  1.270365e+10\n",
       "244         244          LA             LA SALLE  2012  2.111316e+10\n",
       "455         455          FL                PASCO  2014  9.353779e+12"
      ]
     },
     "execution_count": 4,
     "metadata": {},
     "output_type": "execute_result"
    }
   ],
   "source": [
    "df = read_all_files()\n",
    "df.sample(10)"
   ]
  },
  {
   "cell_type": "code",
   "execution_count": 5,
   "metadata": {},
   "outputs": [],
   "source": [
    "df.to_csv(\"Opioid_Final.csv\")\n",
    "df.to_parquet(\"Opioid_Final.gzip\", compression=\"gzip\")"
   ]
  }
 ],
 "metadata": {
  "interpreter": {
   "hash": "87e9d125eb3139100a22d41ad6d93350d0ae15e479e57bf72eb4e2b16358d21b"
  },
  "kernelspec": {
   "display_name": "Python 3.9.6 64-bit ('base': conda)",
   "name": "python3"
  },
  "language_info": {
   "codemirror_mode": {
    "name": "ipython",
    "version": 3
   },
   "file_extension": ".py",
   "mimetype": "text/x-python",
   "name": "python",
   "nbconvert_exporter": "python",
   "pygments_lexer": "ipython3",
   "version": "3.9.6"
  },
  "orig_nbformat": 4
 },
 "nbformat": 4,
 "nbformat_minor": 2
}
